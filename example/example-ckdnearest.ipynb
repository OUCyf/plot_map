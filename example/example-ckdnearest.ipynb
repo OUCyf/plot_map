{
 "cells": [
  {
   "cell_type": "code",
   "execution_count": 1,
   "metadata": {
    "ExecuteTime": {
     "end_time": "2021-10-18T09:36:47.461324Z",
     "start_time": "2021-10-18T09:36:46.867543Z"
    }
   },
   "outputs": [],
   "source": [
    "import plot_map"
   ]
  },
  {
   "cell_type": "code",
   "execution_count": 3,
   "metadata": {
    "ExecuteTime": {
     "end_time": "2021-10-18T09:36:54.179312Z",
     "start_time": "2021-10-18T09:36:54.166741Z"
    }
   },
   "outputs": [],
   "source": [
    "import pandas as pd\n",
    "import geopandas as gpd\n",
    "from shapely.geometry import LineString\n",
    "dfA = gpd.GeoDataFrame([[1,2],[2,4],[2,6],\n",
    "                        [2,10],[24,6],[21,6],\n",
    "                        [22,6]],columns = ['lon1','lat1'])\n",
    "dfB = gpd.GeoDataFrame([[1,3],[2,5],[2,2]],columns = ['lon','lat'])"
   ]
  },
  {
   "cell_type": "markdown",
   "metadata": {},
   "source": [
    "# 点与点匹配（DataFrame与DataFrame）"
   ]
  },
  {
   "cell_type": "code",
   "execution_count": 4,
   "metadata": {
    "ExecuteTime": {
     "end_time": "2021-10-18T09:36:55.140984Z",
     "start_time": "2021-10-18T09:36:55.091062Z"
    }
   },
   "outputs": [
    {
     "data": {
      "text/html": [
       "<div>\n",
       "<style scoped>\n",
       "    .dataframe tbody tr th:only-of-type {\n",
       "        vertical-align: middle;\n",
       "    }\n",
       "\n",
       "    .dataframe tbody tr th {\n",
       "        vertical-align: top;\n",
       "    }\n",
       "\n",
       "    .dataframe thead th {\n",
       "        text-align: right;\n",
       "    }\n",
       "</style>\n",
       "<table border=\"1\" class=\"dataframe\">\n",
       "  <thead>\n",
       "    <tr style=\"text-align: right;\">\n",
       "      <th></th>\n",
       "      <th>lon1</th>\n",
       "      <th>lat1</th>\n",
       "      <th>index</th>\n",
       "      <th>lon</th>\n",
       "      <th>lat</th>\n",
       "      <th>dist</th>\n",
       "    </tr>\n",
       "  </thead>\n",
       "  <tbody>\n",
       "    <tr>\n",
       "      <th>0</th>\n",
       "      <td>1</td>\n",
       "      <td>2</td>\n",
       "      <td>0</td>\n",
       "      <td>1</td>\n",
       "      <td>3</td>\n",
       "      <td>1.111949e+05</td>\n",
       "    </tr>\n",
       "    <tr>\n",
       "      <th>1</th>\n",
       "      <td>2</td>\n",
       "      <td>4</td>\n",
       "      <td>1</td>\n",
       "      <td>2</td>\n",
       "      <td>5</td>\n",
       "      <td>1.111949e+05</td>\n",
       "    </tr>\n",
       "    <tr>\n",
       "      <th>2</th>\n",
       "      <td>2</td>\n",
       "      <td>6</td>\n",
       "      <td>1</td>\n",
       "      <td>2</td>\n",
       "      <td>5</td>\n",
       "      <td>1.111949e+05</td>\n",
       "    </tr>\n",
       "    <tr>\n",
       "      <th>3</th>\n",
       "      <td>2</td>\n",
       "      <td>10</td>\n",
       "      <td>1</td>\n",
       "      <td>2</td>\n",
       "      <td>5</td>\n",
       "      <td>5.559746e+05</td>\n",
       "    </tr>\n",
       "    <tr>\n",
       "      <th>4</th>\n",
       "      <td>24</td>\n",
       "      <td>6</td>\n",
       "      <td>1</td>\n",
       "      <td>2</td>\n",
       "      <td>5</td>\n",
       "      <td>2.437393e+06</td>\n",
       "    </tr>\n",
       "    <tr>\n",
       "      <th>5</th>\n",
       "      <td>21</td>\n",
       "      <td>6</td>\n",
       "      <td>1</td>\n",
       "      <td>2</td>\n",
       "      <td>5</td>\n",
       "      <td>2.105798e+06</td>\n",
       "    </tr>\n",
       "    <tr>\n",
       "      <th>6</th>\n",
       "      <td>22</td>\n",
       "      <td>6</td>\n",
       "      <td>1</td>\n",
       "      <td>2</td>\n",
       "      <td>5</td>\n",
       "      <td>2.216318e+06</td>\n",
       "    </tr>\n",
       "  </tbody>\n",
       "</table>\n",
       "</div>"
      ],
      "text/plain": [
       "   lon1  lat1  index  lon  lat          dist\n",
       "0     1     2      0    1    3  1.111949e+05\n",
       "1     2     4      1    2    5  1.111949e+05\n",
       "2     2     6      1    2    5  1.111949e+05\n",
       "3     2    10      1    2    5  5.559746e+05\n",
       "4    24     6      1    2    5  2.437393e+06\n",
       "5    21     6      1    2    5  2.105798e+06\n",
       "6    22     6      1    2    5  2.216318e+06"
      ]
     },
     "execution_count": 4,
     "metadata": {},
     "output_type": "execute_result"
    }
   ],
   "source": [
    "#如果是DataFrame与DataFrame匹配，则需要指定前后两个表的经纬度列\n",
    "plot_map.ckdnearest(dfA,dfB,Aname=['lon1','lat1'],Bname=['lon','lat'])\n",
    "#此时计算出的距离为经纬度换算实际距离"
   ]
  },
  {
   "cell_type": "markdown",
   "metadata": {},
   "source": [
    "# 点与点匹配（GeoDataFrame与GeoDataFrame）"
   ]
  },
  {
   "cell_type": "code",
   "execution_count": 5,
   "metadata": {
    "ExecuteTime": {
     "end_time": "2021-10-18T09:36:56.186246Z",
     "start_time": "2021-10-18T09:36:56.179329Z"
    }
   },
   "outputs": [],
   "source": [
    "dfA['geometry'] = gpd.points_from_xy(dfA['lon1'],dfA['lat1'])\n",
    "dfB['geometry'] = gpd.points_from_xy(dfB['lon'],dfB['lat'])"
   ]
  },
  {
   "cell_type": "code",
   "execution_count": 6,
   "metadata": {
    "ExecuteTime": {
     "end_time": "2021-10-18T09:36:56.595795Z",
     "start_time": "2021-10-18T09:36:56.564650Z"
    }
   },
   "outputs": [
    {
     "data": {
      "text/html": [
       "<div>\n",
       "<style scoped>\n",
       "    .dataframe tbody tr th:only-of-type {\n",
       "        vertical-align: middle;\n",
       "    }\n",
       "\n",
       "    .dataframe tbody tr th {\n",
       "        vertical-align: top;\n",
       "    }\n",
       "\n",
       "    .dataframe thead th {\n",
       "        text-align: right;\n",
       "    }\n",
       "</style>\n",
       "<table border=\"1\" class=\"dataframe\">\n",
       "  <thead>\n",
       "    <tr style=\"text-align: right;\">\n",
       "      <th></th>\n",
       "      <th>lon1</th>\n",
       "      <th>lat1</th>\n",
       "      <th>geometry_x</th>\n",
       "      <th>dist</th>\n",
       "      <th>index</th>\n",
       "      <th>lon</th>\n",
       "      <th>lat</th>\n",
       "      <th>geometry_y</th>\n",
       "    </tr>\n",
       "  </thead>\n",
       "  <tbody>\n",
       "    <tr>\n",
       "      <th>0</th>\n",
       "      <td>1</td>\n",
       "      <td>2</td>\n",
       "      <td>POINT (1.00000 2.00000)</td>\n",
       "      <td>1.000000</td>\n",
       "      <td>0</td>\n",
       "      <td>1</td>\n",
       "      <td>3</td>\n",
       "      <td>POINT (1.00000 3.00000)</td>\n",
       "    </tr>\n",
       "    <tr>\n",
       "      <th>1</th>\n",
       "      <td>2</td>\n",
       "      <td>4</td>\n",
       "      <td>POINT (2.00000 4.00000)</td>\n",
       "      <td>1.000000</td>\n",
       "      <td>1</td>\n",
       "      <td>2</td>\n",
       "      <td>5</td>\n",
       "      <td>POINT (2.00000 5.00000)</td>\n",
       "    </tr>\n",
       "    <tr>\n",
       "      <th>2</th>\n",
       "      <td>2</td>\n",
       "      <td>6</td>\n",
       "      <td>POINT (2.00000 6.00000)</td>\n",
       "      <td>1.000000</td>\n",
       "      <td>1</td>\n",
       "      <td>2</td>\n",
       "      <td>5</td>\n",
       "      <td>POINT (2.00000 5.00000)</td>\n",
       "    </tr>\n",
       "    <tr>\n",
       "      <th>3</th>\n",
       "      <td>2</td>\n",
       "      <td>10</td>\n",
       "      <td>POINT (2.00000 10.00000)</td>\n",
       "      <td>5.000000</td>\n",
       "      <td>1</td>\n",
       "      <td>2</td>\n",
       "      <td>5</td>\n",
       "      <td>POINT (2.00000 5.00000)</td>\n",
       "    </tr>\n",
       "    <tr>\n",
       "      <th>4</th>\n",
       "      <td>24</td>\n",
       "      <td>6</td>\n",
       "      <td>POINT (24.00000 6.00000)</td>\n",
       "      <td>22.022716</td>\n",
       "      <td>1</td>\n",
       "      <td>2</td>\n",
       "      <td>5</td>\n",
       "      <td>POINT (2.00000 5.00000)</td>\n",
       "    </tr>\n",
       "    <tr>\n",
       "      <th>5</th>\n",
       "      <td>21</td>\n",
       "      <td>6</td>\n",
       "      <td>POINT (21.00000 6.00000)</td>\n",
       "      <td>19.026298</td>\n",
       "      <td>1</td>\n",
       "      <td>2</td>\n",
       "      <td>5</td>\n",
       "      <td>POINT (2.00000 5.00000)</td>\n",
       "    </tr>\n",
       "    <tr>\n",
       "      <th>6</th>\n",
       "      <td>22</td>\n",
       "      <td>6</td>\n",
       "      <td>POINT (22.00000 6.00000)</td>\n",
       "      <td>20.024984</td>\n",
       "      <td>1</td>\n",
       "      <td>2</td>\n",
       "      <td>5</td>\n",
       "      <td>POINT (2.00000 5.00000)</td>\n",
       "    </tr>\n",
       "  </tbody>\n",
       "</table>\n",
       "</div>"
      ],
      "text/plain": [
       "   lon1  lat1                geometry_x       dist  index  lon  lat  \\\n",
       "0     1     2   POINT (1.00000 2.00000)   1.000000      0    1    3   \n",
       "1     2     4   POINT (2.00000 4.00000)   1.000000      1    2    5   \n",
       "2     2     6   POINT (2.00000 6.00000)   1.000000      1    2    5   \n",
       "3     2    10  POINT (2.00000 10.00000)   5.000000      1    2    5   \n",
       "4    24     6  POINT (24.00000 6.00000)  22.022716      1    2    5   \n",
       "5    21     6  POINT (21.00000 6.00000)  19.026298      1    2    5   \n",
       "6    22     6  POINT (22.00000 6.00000)  20.024984      1    2    5   \n",
       "\n",
       "                geometry_y  \n",
       "0  POINT (1.00000 3.00000)  \n",
       "1  POINT (2.00000 5.00000)  \n",
       "2  POINT (2.00000 5.00000)  \n",
       "3  POINT (2.00000 5.00000)  \n",
       "4  POINT (2.00000 5.00000)  \n",
       "5  POINT (2.00000 5.00000)  \n",
       "6  POINT (2.00000 5.00000)  "
      ]
     },
     "execution_count": 6,
     "metadata": {},
     "output_type": "execute_result"
    }
   ],
   "source": [
    "plot_map.ckdnearest_point(dfA,dfB)\n",
    "#此时计算出的距离为经纬度距离"
   ]
  },
  {
   "cell_type": "markdown",
   "metadata": {},
   "source": [
    "# 点与线匹配（GeoDataFrame与GeoDataFrame）"
   ]
  },
  {
   "cell_type": "code",
   "execution_count": 7,
   "metadata": {
    "ExecuteTime": {
     "end_time": "2021-10-18T09:36:57.512023Z",
     "start_time": "2021-10-18T09:36:57.505122Z"
    }
   },
   "outputs": [],
   "source": [
    "dfA['geometry'] = gpd.points_from_xy(dfA['lon1'],dfA['lat1'])\n",
    "dfB['geometry'] = [LineString([[1,2],[1.5,2.5],[3.2,4]]),\n",
    "                  LineString([[1,4],[1,2],[5,4]]),\n",
    "                   LineString([[4,2],[3,2],[3,4]])]"
   ]
  },
  {
   "cell_type": "code",
   "execution_count": 8,
   "metadata": {
    "ExecuteTime": {
     "end_time": "2021-10-18T09:36:58.132877Z",
     "start_time": "2021-10-18T09:36:57.868740Z"
    }
   },
   "outputs": [
    {
     "data": {
      "text/plain": [
       "<AxesSubplot:>"
      ]
     },
     "execution_count": 8,
     "metadata": {},
     "output_type": "execute_result"
    },
    {
     "data": {
      "image/png": "[encoded data removed]",
      "text/plain": [
       "<Figure size 432x288 with 1 Axes>"
      ]
     },
     "metadata": {
      "needs_background": "light"
     },
     "output_type": "display_data"
    }
   ],
   "source": [
    "dfB.plot()"
   ]
  },
  {
   "cell_type": "markdown",
   "metadata": {},
   "source": [
    "其原理是将线中的折点提取，然后使用点匹配点"
   ]
  },
  {
   "cell_type": "code",
   "execution_count": 9,
   "metadata": {
    "ExecuteTime": {
     "end_time": "2021-10-18T09:36:59.063297Z",
     "start_time": "2021-10-18T09:36:59.021231Z"
    }
   },
   "outputs": [
    {
     "data": {
      "text/html": [
       "<div>\n",
       "<style scoped>\n",
       "    .dataframe tbody tr th:only-of-type {\n",
       "        vertical-align: middle;\n",
       "    }\n",
       "\n",
       "    .dataframe tbody tr th {\n",
       "        vertical-align: top;\n",
       "    }\n",
       "\n",
       "    .dataframe thead th {\n",
       "        text-align: right;\n",
       "    }\n",
       "</style>\n",
       "<table border=\"1\" class=\"dataframe\">\n",
       "  <thead>\n",
       "    <tr style=\"text-align: right;\">\n",
       "      <th></th>\n",
       "      <th>lon1</th>\n",
       "      <th>lat1</th>\n",
       "      <th>geometry_x</th>\n",
       "      <th>dist</th>\n",
       "      <th>index</th>\n",
       "      <th>lon</th>\n",
       "      <th>lat</th>\n",
       "      <th>geometry_y</th>\n",
       "    </tr>\n",
       "  </thead>\n",
       "  <tbody>\n",
       "    <tr>\n",
       "      <th>0</th>\n",
       "      <td>1</td>\n",
       "      <td>2</td>\n",
       "      <td>POINT (1.00000 2.00000)</td>\n",
       "      <td>0.000000</td>\n",
       "      <td>0</td>\n",
       "      <td>1</td>\n",
       "      <td>3</td>\n",
       "      <td>LINESTRING (1.00000 2.00000, 1.50000 2.50000, ...</td>\n",
       "    </tr>\n",
       "    <tr>\n",
       "      <th>1</th>\n",
       "      <td>2</td>\n",
       "      <td>4</td>\n",
       "      <td>POINT (2.00000 4.00000)</td>\n",
       "      <td>1.000000</td>\n",
       "      <td>1</td>\n",
       "      <td>2</td>\n",
       "      <td>5</td>\n",
       "      <td>LINESTRING (1.00000 4.00000, 1.00000 2.00000, ...</td>\n",
       "    </tr>\n",
       "    <tr>\n",
       "      <th>2</th>\n",
       "      <td>2</td>\n",
       "      <td>6</td>\n",
       "      <td>POINT (2.00000 6.00000)</td>\n",
       "      <td>2.236068</td>\n",
       "      <td>1</td>\n",
       "      <td>2</td>\n",
       "      <td>5</td>\n",
       "      <td>LINESTRING (1.00000 4.00000, 1.00000 2.00000, ...</td>\n",
       "    </tr>\n",
       "    <tr>\n",
       "      <th>3</th>\n",
       "      <td>2</td>\n",
       "      <td>10</td>\n",
       "      <td>POINT (2.00000 10.00000)</td>\n",
       "      <td>6.082763</td>\n",
       "      <td>1</td>\n",
       "      <td>2</td>\n",
       "      <td>5</td>\n",
       "      <td>LINESTRING (1.00000 4.00000, 1.00000 2.00000, ...</td>\n",
       "    </tr>\n",
       "    <tr>\n",
       "      <th>4</th>\n",
       "      <td>24</td>\n",
       "      <td>6</td>\n",
       "      <td>POINT (24.00000 6.00000)</td>\n",
       "      <td>19.104973</td>\n",
       "      <td>1</td>\n",
       "      <td>2</td>\n",
       "      <td>5</td>\n",
       "      <td>LINESTRING (1.00000 4.00000, 1.00000 2.00000, ...</td>\n",
       "    </tr>\n",
       "    <tr>\n",
       "      <th>5</th>\n",
       "      <td>21</td>\n",
       "      <td>6</td>\n",
       "      <td>POINT (21.00000 6.00000)</td>\n",
       "      <td>16.124515</td>\n",
       "      <td>1</td>\n",
       "      <td>2</td>\n",
       "      <td>5</td>\n",
       "      <td>LINESTRING (1.00000 4.00000, 1.00000 2.00000, ...</td>\n",
       "    </tr>\n",
       "    <tr>\n",
       "      <th>6</th>\n",
       "      <td>22</td>\n",
       "      <td>6</td>\n",
       "      <td>POINT (22.00000 6.00000)</td>\n",
       "      <td>17.117243</td>\n",
       "      <td>1</td>\n",
       "      <td>2</td>\n",
       "      <td>5</td>\n",
       "      <td>LINESTRING (1.00000 4.00000, 1.00000 2.00000, ...</td>\n",
       "    </tr>\n",
       "  </tbody>\n",
       "</table>\n",
       "</div>"
      ],
      "text/plain": [
       "   lon1  lat1                geometry_x       dist  index  lon  lat  \\\n",
       "0     1     2   POINT (1.00000 2.00000)   0.000000      0    1    3   \n",
       "1     2     4   POINT (2.00000 4.00000)   1.000000      1    2    5   \n",
       "2     2     6   POINT (2.00000 6.00000)   2.236068      1    2    5   \n",
       "3     2    10  POINT (2.00000 10.00000)   6.082763      1    2    5   \n",
       "4    24     6  POINT (24.00000 6.00000)  19.104973      1    2    5   \n",
       "5    21     6  POINT (21.00000 6.00000)  16.124515      1    2    5   \n",
       "6    22     6  POINT (22.00000 6.00000)  17.117243      1    2    5   \n",
       "\n",
       "                                          geometry_y  \n",
       "0  LINESTRING (1.00000 2.00000, 1.50000 2.50000, ...  \n",
       "1  LINESTRING (1.00000 4.00000, 1.00000 2.00000, ...  \n",
       "2  LINESTRING (1.00000 4.00000, 1.00000 2.00000, ...  \n",
       "3  LINESTRING (1.00000 4.00000, 1.00000 2.00000, ...  \n",
       "4  LINESTRING (1.00000 4.00000, 1.00000 2.00000, ...  \n",
       "5  LINESTRING (1.00000 4.00000, 1.00000 2.00000, ...  \n",
       "6  LINESTRING (1.00000 4.00000, 1.00000 2.00000, ...  "
      ]
     },
     "execution_count": 9,
     "metadata": {},
     "output_type": "execute_result"
    }
   ],
   "source": [
    "plot_map.ckdnearest_line(dfA,dfB)\n",
    "#此时计算出的距离为经纬度距离"
   ]
  },
  {
   "cell_type": "code",
   "execution_count": null,
   "metadata": {},
   "outputs": [],
   "source": []
  }
 ],
 "metadata": {
  "kernelspec": {
   "display_name": "Python 3",
   "language": "python",
   "name": "python3"
  },
  "language_info": {
   "codemirror_mode": {
    "name": "ipython",
    "version": 3
   },
   "file_extension": ".py",
   "mimetype": "text/x-python",
   "name": "python",
   "nbconvert_exporter": "python",
   "pygments_lexer": "ipython3",
   "version": "3.8.5"
  },
  "toc": {
   "base_numbering": 1,
   "nav_menu": {},
   "number_sections": true,
   "sideBar": true,
   "skip_h1_title": false,
   "title_cell": "Table of Contents",
   "title_sidebar": "Contents",
   "toc_cell": false,
   "toc_position": {},
   "toc_section_display": true,
   "toc_window_display": false
  }
 },
 "nbformat": 4,
 "nbformat_minor": 4
}
